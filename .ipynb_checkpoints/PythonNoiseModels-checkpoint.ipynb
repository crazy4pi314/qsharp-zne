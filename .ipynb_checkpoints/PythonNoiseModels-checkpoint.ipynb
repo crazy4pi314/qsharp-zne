{
 "cells": [
  {
   "cell_type": "code",
   "execution_count": 1,
   "id": "treated-cruise",
   "metadata": {},
   "outputs": [
    {
     "name": "stdout",
     "output_type": "stream",
     "text": [
      "Preparing Q# environment...\n"
     ]
    }
   ],
   "source": [
    "import qsharp"
   ]
  },
  {
   "cell_type": "code",
   "execution_count": 2,
   "id": "legitimate-lesbian",
   "metadata": {},
   "outputs": [],
   "source": [
    "from qsharp.experimental import enable_noisy_simulation, get_noise_model, set_noise_model"
   ]
  },
  {
   "cell_type": "code",
   "execution_count": 3,
   "id": "regular-revision",
   "metadata": {},
   "outputs": [],
   "source": [
    "enable_noisy_simulation()"
   ]
  },
  {
   "cell_type": "code",
   "execution_count": 4,
   "id": "literary-young",
   "metadata": {},
   "outputs": [],
   "source": [
    "from qsharp_zne import HelloQ"
   ]
  },
  {
   "cell_type": "code",
   "execution_count": 5,
   "id": "crazy-hygiene",
   "metadata": {},
   "outputs": [
    {
     "name": "stderr",
     "output_type": "stream",
     "text": [
      "C:\\snippet_.qs(1,1): error QS3001: Syntax does not match any known patterns.\r\n"
     ]
    }
   ],
   "source": [
    "HelloQ.simulate_noise()"
   ]
  },
  {
   "cell_type": "code",
   "execution_count": 7,
   "id": "manufactured-algorithm",
   "metadata": {},
   "outputs": [
    {
     "data": {
      "text/plain": [
       "['%azure.connect',\n",
       " '%azure.execute',\n",
       " '%azure.jobs',\n",
       " '%azure.output',\n",
       " '%azure.status',\n",
       " '%azure.submit',\n",
       " '%azure.target',\n",
       " '%config',\n",
       " '%debug',\n",
       " '%estimate',\n",
       " '%lsmagic',\n",
       " '%lsopen',\n",
       " '%package',\n",
       " '%performance',\n",
       " '%project',\n",
       " '%simulate',\n",
       " '%toffoli',\n",
       " '%trace',\n",
       " '%who',\n",
       " '%workspace']"
      ]
     },
     "execution_count": 7,
     "metadata": {},
     "output_type": "execute_result"
    }
   ],
   "source": [
    "[magic['Name'] for magic in qsharp.client._execute('%lsmagic')]"
   ]
  },
  {
   "cell_type": "code",
   "execution_count": 8,
   "id": "supported-matrix",
   "metadata": {},
   "outputs": [
    {
     "data": {
      "text/plain": [
       "{'iqsharp': LooseVersion ('0.15.2101125897'),\n",
       " 'Jupyter Core': LooseVersion ('1.5.0.0'),\n",
       " '.NET Runtime': LooseVersion ('.NETCoreApp,Version=v3.1'),\n",
       " 'qsharp': LooseVersion ('0.0.0.1')}"
      ]
     },
     "execution_count": 8,
     "metadata": {},
     "output_type": "execute_result"
    }
   ],
   "source": [
    "qsharp.component_versions()"
   ]
  },
  {
   "cell_type": "code",
   "execution_count": null,
   "id": "attended-request",
   "metadata": {},
   "outputs": [],
   "source": []
  }
 ],
 "metadata": {
  "kernelspec": {
   "display_name": "Python 3",
   "language": "python",
   "name": "python3"
  },
  "language_info": {
   "codemirror_mode": {
    "name": "ipython",
    "version": 3
   },
   "file_extension": ".py",
   "mimetype": "text/x-python",
   "name": "python",
   "nbconvert_exporter": "python",
   "pygments_lexer": "ipython3",
   "version": "3.8.5"
  }
 },
 "nbformat": 4,
 "nbformat_minor": 5
}
